{
 "cells": [
  {
   "cell_type": "code",
   "execution_count": 9,
   "metadata": {},
   "outputs": [
    {
     "name": "stdout",
     "output_type": "stream",
     "text": [
      "Downloading data from https://storage.googleapis.com/tensorflow/tf-keras-datasets/train-labels-idx1-ubyte.gz\n"
     ]
    },
    {
     "name": "stdout",
     "output_type": "stream",
     "text": [
      "29515/29515 [==============================] - 0s 0us/step\n",
      "Downloading data from https://storage.googleapis.com/tensorflow/tf-keras-datasets/train-images-idx3-ubyte.gz\n",
      "26421880/26421880 [==============================] - 12s 0us/step\n",
      "Downloading data from https://storage.googleapis.com/tensorflow/tf-keras-datasets/t10k-labels-idx1-ubyte.gz\n",
      "5148/5148 [==============================] - 0s 0s/step\n",
      "Downloading data from https://storage.googleapis.com/tensorflow/tf-keras-datasets/t10k-images-idx3-ubyte.gz\n",
      "4422102/4422102 [==============================] - 2s 0us/step\n",
      "Epoch 1/5\n",
      "844/844 [==============================] - 25s 25ms/step - loss: 0.6443 - accuracy: 0.7630 - val_loss: 0.4725 - val_accuracy: 0.8220\n",
      "Epoch 2/5\n",
      "844/844 [==============================] - 20s 23ms/step - loss: 0.4507 - accuracy: 0.8348 - val_loss: 0.4194 - val_accuracy: 0.8470\n",
      "Epoch 3/5\n",
      "844/844 [==============================] - 20s 23ms/step - loss: 0.3995 - accuracy: 0.8535 - val_loss: 0.3737 - val_accuracy: 0.8610\n",
      "Epoch 4/5\n",
      "844/844 [==============================] - 19s 23ms/step - loss: 0.3684 - accuracy: 0.8645 - val_loss: 0.3503 - val_accuracy: 0.8725\n",
      "Epoch 5/5\n",
      "844/844 [==============================] - 20s 23ms/step - loss: 0.3452 - accuracy: 0.8746 - val_loss: 0.3223 - val_accuracy: 0.8797\n",
      "313/313 [==============================] - 2s 7ms/step - loss: 0.3461 - accuracy: 0.8722\n",
      "Accuracy on Test Data: 0.8722000122070312\n",
      "1/1 [==============================] - 1s 700ms/step\n",
      "Predicted Class for Sample Image: 9\n"
     ]
    }
   ],
   "source": [
    "import numpy as np\n",
    "from tensorflow.keras.datasets import fashion_mnist\n",
    "from tensorflow.keras.models import Sequential\n",
    "from tensorflow.keras.layers import LSTM, Dense, Dropout\n",
    "from tensorflow.keras.utils import to_categorical\n",
    "\n",
    "# Load Fashion MNIST dataset\n",
    "(X_train, y_train), (X_test, y_test) = fashion_mnist.load_data()\n",
    "\n",
    "# Preprocess the data\n",
    "X_train = X_train / 255.0\n",
    "X_test = X_test / 255.0\n",
    "\n",
    "# Reshape the data for LSTM\n",
    "X_train = X_train.reshape(X_train.shape[0], 28, 28)\n",
    "X_test = X_test.reshape(X_test.shape[0], 28, 28)\n",
    "\n",
    "# One-hot encode the labels\n",
    "y_train = to_categorical(y_train, 10)\n",
    "y_test = to_categorical(y_test, 10)\n",
    "\n",
    "# Build the LSTM model\n",
    "model_fashion = Sequential()\n",
    "model_fashion.add(LSTM(128, input_shape=(28, 28)))\n",
    "model_fashion.add(Dropout(0.2))\n",
    "model_fashion.add(Dense(10, activation='softmax'))\n",
    "\n",
    "model_fashion.compile(optimizer='adam', loss='categorical_crossentropy', metrics=['accuracy'])\n",
    "\n",
    "# Train the model\n",
    "history_fashion = model_fashion.fit(X_train, y_train, epochs=5, batch_size=64, validation_split=0.1)\n",
    "\n",
    "# Evaluate the model\n",
    "evaluation_result = model_fashion.evaluate(X_test, y_test)\n",
    "print(f'Accuracy on Test Data: {evaluation_result[1]}')\n",
    "\n",
    "# Make predictions\n",
    "sample_image = X_test[0].reshape(1, 28, 28)\n",
    "predicted_class = np.argmax(model_fashion.predict(sample_image))\n",
    "print(f'Predicted Class for Sample Image: {predicted_class}')"
   ]
  }
 ],
 "metadata": {
  "kernelspec": {
   "display_name": "base",
   "language": "python",
   "name": "python3"
  },
  "language_info": {
   "codemirror_mode": {
    "name": "ipython",
    "version": 3
   },
   "file_extension": ".py",
   "mimetype": "text/x-python",
   "name": "python",
   "nbconvert_exporter": "python",
   "pygments_lexer": "ipython3",
   "version": "3.8.13"
  }
 },
 "nbformat": 4,
 "nbformat_minor": 2
}
